{
 "cells": [
  {
   "cell_type": "markdown",
   "metadata": {},
   "source": [
    "### Importing Data and Required Packages"
   ]
  },
  {
   "cell_type": "code",
   "execution_count": 56,
   "metadata": {},
   "outputs": [],
   "source": [
    "import pandas as pd\n",
    "import numpy as np\n",
    "import matplotlib.pyplot as plt\n",
    "import seaborn as sns\n",
    "\n",
    "# modelling \n",
    "from sklearn.linear_model import LogisticRegression\n",
    "from sklearn.ensemble import RandomForestClassifier\n",
    "from sklearn.svm import SVC\n",
    "from sklearn.preprocessing import StandardScaler \n",
    "from sklearn.model_selection import train_test_split\n",
    "from sklearn.model_selection import KFold,cross_val_score,GridSearchCV\n",
    "from sklearn.metrics import accuracy_score, precision_score, recall_score, f1_score, confusion_matrix"
   ]
  },
  {
   "cell_type": "code",
   "execution_count": 19,
   "metadata": {},
   "outputs": [],
   "source": [
    "df = pd.read_csv(r\"C:\\Users\\kanis\\Desktop\\Breast-Cancer-Prediction\\notebook\\raw.csv\")"
   ]
  },
  {
   "cell_type": "code",
   "execution_count": null,
   "metadata": {},
   "outputs": [],
   "source": [
    "df.head()"
   ]
  },
  {
   "cell_type": "code",
   "execution_count": 21,
   "metadata": {},
   "outputs": [],
   "source": [
    "df.drop(\"id\",axis = 1 ,inplace=True)"
   ]
  },
  {
   "cell_type": "code",
   "execution_count": null,
   "metadata": {},
   "outputs": [],
   "source": [
    "df = df.replace({\"M\":1,\"B\":0})"
   ]
  },
  {
   "cell_type": "markdown",
   "metadata": {},
   "source": [
    "### Seperating out Features and label"
   ]
  },
  {
   "cell_type": "code",
   "execution_count": 23,
   "metadata": {},
   "outputs": [],
   "source": [
    "y = df[\"diagnosis\"]\n",
    "x = df.drop(\"diagnosis\",axis=1)"
   ]
  },
  {
   "cell_type": "markdown",
   "metadata": {},
   "source": [
    "### Train-Test Split"
   ]
  },
  {
   "cell_type": "code",
   "execution_count": 24,
   "metadata": {},
   "outputs": [],
   "source": [
    "x_train,x_test,y_train,y_test = train_test_split(x,y,test_size=0.2,random_state=42)"
   ]
  },
  {
   "cell_type": "markdown",
   "metadata": {},
   "source": [
    "### Feature Scaling"
   ]
  },
  {
   "cell_type": "code",
   "execution_count": 35,
   "metadata": {},
   "outputs": [],
   "source": [
    "ss = StandardScaler()\n",
    "x_train = ss.fit_transform(x_train)\n",
    "x_test = ss.fit_transform(x_test)"
   ]
  },
  {
   "cell_type": "markdown",
   "metadata": {},
   "source": [
    "### Applying GridSearchCV"
   ]
  },
  {
   "cell_type": "code",
   "execution_count": 45,
   "metadata": {},
   "outputs": [],
   "source": [
    "models = {\n",
    "    \"LogisticRegression\":{\n",
    "        \"model_name\":LogisticRegression(),\n",
    "        \"parameters\":{\n",
    "          \"C\":[0.1,1,10],\n",
    "          \"penalty\":[\"l1\",\"l2\"],\n",
    "          \"solver\":[\"liblinear\",\"saga\"]\n",
    "    }\n",
    "},\n",
    "    \"RandomForest\":{\n",
    "        \"model_name\":RandomForestClassifier(random_state = 42),\n",
    "        \"parameters\":{\n",
    "          \"n_estimators\": [50, 100, 200],\n",
    "          \"max_depth\": [None, 10, 20],\n",
    "          \"min_samples_split\": [2, 5, 10]\n",
    "    }\n",
    "},  \n",
    "    \"svm\":{\n",
    "        \"model_name\":SVC(),\n",
    "        \"parameters\":{\n",
    "          \"C\":[0.01,0.1,1],\n",
    "          \"gamma\":[0.01,0.001,1,10],\n",
    "          \"kernel\":[\"rbf\",\"linear\"]\n",
    "    }\n",
    "}\n",
    "    }"
   ]
  },
  {
   "cell_type": "code",
   "execution_count": 46,
   "metadata": {},
   "outputs": [
    {
     "name": "stdout",
     "output_type": "stream",
     "text": [
      "Best parameters for LogisticRegression : {'C': 0.1, 'penalty': 'l2', 'solver': 'liblinear'}\n",
      "Best parameters for RandomForest : {'max_depth': None, 'min_samples_split': 2, 'n_estimators': 200}\n",
      "Best parameters for svm : {'C': 0.1, 'gamma': 0.01, 'kernel': 'linear'}\n"
     ]
    }
   ],
   "source": [
    "best_models = {}\n",
    "for i in models:\n",
    "    clf= GridSearchCV(\n",
    "        models[i][\"model_name\"],\n",
    "        models[i][\"parameters\"],cv=5,n_jobs=-1)\n",
    "    clf.fit(x_train,y_train)\n",
    "    best_models[i] = clf.best_estimator_\n",
    "    print(f\"Best parameters for {i} : {clf.best_params_}\")\n"
   ]
  },
  {
   "cell_type": "markdown",
   "metadata": {},
   "source": [
    "### Finding out Metrics for each Model"
   ]
  },
  {
   "cell_type": "code",
   "execution_count": 48,
   "metadata": {},
   "outputs": [
    {
     "name": "stdout",
     "output_type": "stream",
     "text": [
      "\n",
      "LogisticRegression performance on Test set:\n",
      "Accuracy: 0.9824561403508771\n",
      "precision: 0.9829367940398942\n",
      "recall: 0.9824561403508771\n",
      "f1: 0.9823691172375383\n",
      "\n",
      "RandomForest performance on Test set:\n",
      "Accuracy: 0.9649122807017544\n",
      "precision: 0.9652053622194477\n",
      "recall: 0.9649122807017544\n",
      "f1: 0.9647382344750765\n",
      "\n",
      "svm performance on Test set:\n",
      "Accuracy: 0.9824561403508771\n",
      "precision: 0.9829367940398942\n",
      "recall: 0.9824561403508771\n",
      "f1: 0.9823691172375383\n"
     ]
    }
   ],
   "source": [
    "for model_name,model in best_models.items():\n",
    "    y_pred = model.predict(x_test)\n",
    "    accuracy = accuracy_score(y_test, y_pred)\n",
    "    precision = precision_score(y_test, y_pred, average='weighted')\n",
    "    recall = recall_score(y_test, y_pred, average='weighted')\n",
    "    f1 = f1_score(y_test, y_pred, average='weighted')\n",
    "    print(\"\\n\"f\"{model_name} performance on Test set:\")\n",
    "    print(f\"Accuracy: {accuracy}\")\n",
    "    print(f\"precision: {precision}\")\n",
    "    print(f\"recall: {recall}\")\n",
    "    print(f\"f1: {f1}\")\n"
   ]
  },
  {
   "cell_type": "markdown",
   "metadata": {},
   "source": [
    "### Applying KFold Cross-Validation"
   ]
  },
  {
   "cell_type": "code",
   "execution_count": 55,
   "metadata": {},
   "outputs": [
    {
     "name": "stdout",
     "output_type": "stream",
     "text": [
      "\n",
      "Scores for LogisticRegression: [0.96491228 0.99122807 0.89473684 0.94736842 0.92920354]\n",
      "Average score: 0.9454898307716194\n",
      "\n",
      "Scores for RandomForest: [0.96491228 0.97368421 0.94736842 0.96491228 0.96460177]\n",
      "Average score: 0.9630957925787922\n",
      "\n",
      "Scores for svm: [0.96491228 0.95614035 0.94736842 0.96491228 0.9380531 ]\n",
      "Average score: 0.9542772861356932\n"
     ]
    }
   ],
   "source": [
    "for model_name,model in best_models.items():\n",
    "    kf = KFold(n_splits=5, shuffle = True , random_state =42)\n",
    "    scores = cross_val_score(model,x,y,cv=kf)\n",
    "    print(\"\\n\"f\"Scores for {model_name}: {scores}\")\n",
    "    print(f\"Average score: {np.average(scores)}\")"
   ]
  },
  {
   "cell_type": "markdown",
   "metadata": {},
   "source": [
    "From the above analysis it can be deduced that the model which is giving consistent scores and highest average of scores on cross-validation is RandomForestClassifier"
   ]
  },
  {
   "cell_type": "markdown",
   "metadata": {},
   "source": []
  }
 ],
 "metadata": {
  "kernelspec": {
   "display_name": "myenv",
   "language": "python",
   "name": "python3"
  },
  "language_info": {
   "codemirror_mode": {
    "name": "ipython",
    "version": 3
   },
   "file_extension": ".py",
   "mimetype": "text/x-python",
   "name": "python",
   "nbconvert_exporter": "python",
   "pygments_lexer": "ipython3",
   "version": "3.12.3"
  }
 },
 "nbformat": 4,
 "nbformat_minor": 2
}
